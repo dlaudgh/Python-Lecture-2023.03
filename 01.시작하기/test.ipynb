{
  "nbformat": 4,
  "nbformat_minor": 0,
  "metadata": {
    "colab": {
      "provenance": []
    },
    "kernelspec": {
      "name": "python3",
      "display_name": "Python 3"
    },
    "language_info": {
      "name": "python"
    }
  },
  "cells": [
    {
      "cell_type": "code",
      "source": [
        "!python --version"
      ],
      "metadata": {
        "colab": {
          "base_uri": "https://localhost:8080/"
        },
        "id": "oZUudS7ZPSzp",
        "outputId": "c24c0417-0d2b-4804-d32e-1642c36ce159"
      },
      "execution_count": 13,
      "outputs": [
        {
          "output_type": "stream",
          "name": "stdout",
          "text": [
            "Python 3.9.16\n"
          ]
        }
      ]
    },
    {
      "cell_type": "code",
      "source": [
        "# 문장 뒤에 세미콜론(;)을 붙이지 않는다.\n",
        "print('Hello world')"
      ],
      "metadata": {
        "colab": {
          "base_uri": "https://localhost:8080/"
        },
        "id": "uaasiP1QOfCR",
        "outputId": "8f85df41-325a-444b-e9ca-ad80b93b83ea"
      },
      "execution_count": 10,
      "outputs": [
        {
          "output_type": "stream",
          "name": "stdout",
          "text": [
            "Hello world\n"
          ]
        }
      ]
    },
    {
      "cell_type": "code",
      "source": [
        "# 변수 앞에 let/val/const 붙이지 않는다.\n",
        "number = 5"
      ],
      "metadata": {
        "id": "PsopCOweOrTR"
      },
      "execution_count": 11,
      "outputs": []
    },
    {
      "cell_type": "code",
      "source": [
        "# { } block을 indentation으로 대치한다.\n",
        "if number % 2 == 1:\n",
        "    print('홀수입니다.')"
      ],
      "metadata": {
        "colab": {
          "base_uri": "https://localhost:8080/"
        },
        "id": "JJavTKQvO2UB",
        "outputId": "653921b8-938b-4d34-eb87-65b943a5799a"
      },
      "execution_count": 12,
      "outputs": [
        {
          "output_type": "stream",
          "name": "stdout",
          "text": [
            "홀수입니다.\n"
          ]
        }
      ]
    },
    {
      "cell_type": "code",
      "source": [
        "sum = 0\n",
        "for i in range(1,101):\n",
        "    if i % 2 == 1:\n",
        "        sum += i\n",
        "print(f'1에서 100까지 홀수의 합은 {sum} 입니다.')"
      ],
      "metadata": {
        "colab": {
          "base_uri": "https://localhost:8080/"
        },
        "id": "uSlQh-yZPbrJ",
        "outputId": "ec31ea20-1cf4-4540-b5d8-adc9a4459341"
      },
      "execution_count": 14,
      "outputs": [
        {
          "output_type": "stream",
          "name": "stdout",
          "text": [
            "1에서 100까지 홀수의 합은 2500 입니다.\n"
          ]
        }
      ]
    },
    {
      "cell_type": "code",
      "source": [
        "even_sum, odd_sum = 0, 0;\n",
        "for i in range(1, 101):\n",
        "    if i % 2 == 1:      # 홀수\n",
        "        odd_sum += i\n",
        "    else:\n",
        "        even_sum += i\n",
        "print(f'1에서 100까지 홀수의 합은 {odd_sum} 이고, 짝수의 합은 {even_sum} 입니다.')"
      ],
      "metadata": {
        "colab": {
          "base_uri": "https://localhost:8080/"
        },
        "id": "ppseJ6ipQDz8",
        "outputId": "79247f02-2d53-4bd4-ca77-4c83148140f0"
      },
      "execution_count": 15,
      "outputs": [
        {
          "output_type": "stream",
          "name": "stdout",
          "text": [
            "1에서 100까지 홀수의 합은 2500 이고, 짝수의 합은 2550 입니다.\n"
          ]
        }
      ]
    },
    {
      "cell_type": "code",
      "source": [],
      "metadata": {
        "id": "1D0U-EoYRAsR"
      },
      "execution_count": null,
      "outputs": []
    }
  ]
}