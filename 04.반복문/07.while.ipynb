{
 "cells": [
  {
   "attachments": {},
   "cell_type": "markdown",
   "metadata": {},
   "source": [
    "### 4-7. while 반복문"
   ]
  },
  {
   "attachments": {},
   "cell_type": "markdown",
   "metadata": {},
   "source": [
    "- unix time 예"
   ]
  },
  {
   "cell_type": "code",
   "execution_count": 2,
   "metadata": {},
   "outputs": [
    {
     "data": {
      "text/plain": [
       "1680239804.947198"
      ]
     },
     "execution_count": 2,
     "metadata": {},
     "output_type": "execute_result"
    }
   ],
   "source": [
    "import time\n",
    "time.time()"
   ]
  },
  {
   "cell_type": "code",
   "execution_count": 3,
   "metadata": {},
   "outputs": [
    {
     "name": "stdout",
     "output_type": "stream",
     "text": [
      "5초동안 24888189번 틱이 발생\n"
     ]
    }
   ],
   "source": [
    "# 5초동안 반복하기\n",
    "number = 0\n",
    "target_tick = time.time() + 5\n",
    "while time.time() < target_tick:\n",
    "    number += 1\n",
    "print(f'5초동안 {number}번 틱이 발생')"
   ]
  },
  {
   "attachments": {},
   "cell_type": "markdown",
   "metadata": {},
   "source": [
    "- break"
   ]
  },
  {
   "cell_type": "code",
   "execution_count": 4,
   "metadata": {},
   "outputs": [
    {
     "name": "stdout",
     "output_type": "stream",
     "text": [
      "1회 반복\n",
      "2회 반복\n",
      "3회 반복\n",
      "4회 반복\n",
      "반복을 종료합니다.\n"
     ]
    }
   ],
   "source": [
    "count = 1\n",
    "while True:\n",
    "    print(f'{count}회 반복')\n",
    "    count += 1\n",
    "    input_text = input('종료하시겠습니까? ')\n",
    "    if input_text == 'Y' or input_text == 'y':    # if input_text in ['Y', 'y']:\n",
    "        print('반복을 종료합니다.')\n",
    "        break"
   ]
  },
  {
   "attachments": {},
   "cell_type": "markdown",
   "metadata": {},
   "source": [
    "- continue"
   ]
  },
  {
   "cell_type": "code",
   "execution_count": 6,
   "metadata": {},
   "outputs": [
    {
     "data": {
      "text/plain": [
       "[7, 14, 17, 2, 9, 14]"
      ]
     },
     "execution_count": 6,
     "metadata": {},
     "output_type": "execute_result"
    }
   ],
   "source": [
    "import random\n",
    "numbers = []\n",
    "for _ in range(6):\n",
    "    numbers.append(random.randint(1,20))\n",
    "numbers"
   ]
  },
  {
   "cell_type": "code",
   "execution_count": 7,
   "metadata": {},
   "outputs": [
    {
     "name": "stdout",
     "output_type": "stream",
     "text": [
      "14\n",
      "17\n",
      "14\n"
     ]
    }
   ],
   "source": [
    "# 10 보다 작으면 출력하지 않음\n",
    "for number in numbers:\n",
    "    if number < 10:\n",
    "        continue\n",
    "    print(number)"
   ]
  },
  {
   "attachments": {},
   "cell_type": "markdown",
   "metadata": {},
   "source": [
    "- 확인 문제"
   ]
  },
  {
   "cell_type": "code",
   "execution_count": 1,
   "metadata": {},
   "outputs": [
    {
     "name": "stdout",
     "output_type": "stream",
     "text": [
      "45 을/를 더할 때 1000 을 넘으며, 그 때의 값은 1035 입니다.\n"
     ]
    }
   ],
   "source": [
    "limit = 1000\n",
    "i = 1\n",
    "sum = 0\n",
    "while True:\n",
    "    sum += i\n",
    "    if sum > limit:\n",
    "        print(f'{i} 을/를 더할 때 {limit} 을 넘으며, 그 때의 값은 {sum} 입니다.')\n",
    "        break\n",
    "    i += 1"
   ]
  },
  {
   "cell_type": "code",
   "execution_count": null,
   "metadata": {},
   "outputs": [],
   "source": []
  }
 ],
 "metadata": {
  "kernelspec": {
   "display_name": "base",
   "language": "python",
   "name": "python3"
  },
  "language_info": {
   "codemirror_mode": {
    "name": "ipython",
    "version": 3
   },
   "file_extension": ".py",
   "mimetype": "text/x-python",
   "name": "python",
   "nbconvert_exporter": "python",
   "pygments_lexer": "ipython3",
   "version": "3.10.9"
  },
  "orig_nbformat": 4
 },
 "nbformat": 4,
 "nbformat_minor": 2
}
