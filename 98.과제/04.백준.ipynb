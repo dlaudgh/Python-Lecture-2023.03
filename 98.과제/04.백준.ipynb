{
 "cells": [
  {
   "attachments": {},
   "cell_type": "markdown",
   "metadata": {},
   "source": [
    "### 1181.단어정렬\n",
    "알파벳 소문자로 이루어진 N개의 단어가 들어오면 아래와 같은 조건에 따라 정렬하는 프로그램을 작성하시오.<br>\n",
    "1. 길이가 짧은 것부터<br>\n",
    "2. 길이가 같으면 사전 순으로<br>\n",
    "단, 중복된 단어는 하나만 남기고 제거해야 한다."
   ]
  },
  {
   "cell_type": "code",
   "execution_count": 31,
   "metadata": {},
   "outputs": [],
   "source": [
    "# step 1. word_dict 만들기\n",
    "word_dict = {key: set() for key in range(1, 51)}\n",
    "\n",
    "# word_dict = {}\n",
    "# for i in range(1, 51):\n",
    "#     word_dict[i] = set()"
   ]
  },
  {
   "cell_type": "code",
   "execution_count": 35,
   "metadata": {},
   "outputs": [],
   "source": [
    "# step 2. 단어 읽으면서 word_dict에 채워넣기\n",
    "num = int(input('읽을 단어의 갯수> '))\n",
    "for _ in range(num):\n",
    "    word = input()\n",
    "    word_dict[len(word)].add(word)"
   ]
  },
  {
   "cell_type": "code",
   "execution_count": 36,
   "metadata": {},
   "outputs": [
    {
     "name": "stdout",
     "output_type": "stream",
     "text": [
      "{'fsf', 'ege', 'epp'}\n",
      "{'grge', 'fefw', 'wlfl'}\n",
      "{'grhjh', 'sjlfj', 'afjsl'}\n",
      "{'feiwjfl'}\n"
     ]
    }
   ],
   "source": [
    "for key in range(1, 51):\n",
    "    if len(word_dict[key]) == 0:\n",
    "        continue\n",
    "    print(word_dict[key])"
   ]
  },
  {
   "cell_type": "code",
   "execution_count": 37,
   "metadata": {},
   "outputs": [
    {
     "name": "stdout",
     "output_type": "stream",
     "text": [
      "ege\n",
      "epp\n",
      "fsf\n",
      "fefw\n",
      "grge\n",
      "wlfl\n",
      "afjsl\n",
      "grhjh\n",
      "sjlfj\n",
      "feiwjfl\n"
     ]
    }
   ],
   "source": [
    "# step 3. 주어진 순서대로 출력하기\n",
    "for key in range(1, 51):\n",
    "    if len(word_dict[key]) == 0:\n",
    "        continue\n",
    "    for word in sorted(word_dict[key]):\n",
    "        print(word)"
   ]
  },
  {
   "attachments": {},
   "cell_type": "markdown",
   "metadata": {},
   "source": [
    "### 2231. 분해합\n",
    "어떤 자연수 N이 있을 때, 그 자연수 N의 분해합은 N과 N을 이루는 각 자리수의 합을 의미한다.<br>\n",
    "어떤 자연수 M의 분해합이 N인 경우, M을 N의 생성자라 한다. 예를 들어,<br>\n",
    "245의 분해합은 256(=245+2+4+5)이 된다. 따라서 245는 256의 생성자가 된다.<br>\n",
    "물론, 어떤 자연수의 경우에는 생성자가 없을 수도 있다.<br>\n",
    "반대로, 생성자가 여러 개인 자연수도 있을 수 있다.<br>\n",
    "<br>\n",
    "자연수 N이 주어졌을 때, N의 가장 작은 생성자를 구해내는 프로그램을 작성하시오."
   ]
  },
  {
   "cell_type": "code",
   "execution_count": 13,
   "metadata": {},
   "outputs": [],
   "source": [
    "def sum_of_decomposition(num):\n",
    "    numStr = str(num)\n",
    "    result = num\n",
    "    for i in range(len(numStr)):\n",
    "        result += int(numStr[i])\n",
    "    return result"
   ]
  },
  {
   "cell_type": "code",
   "execution_count": 14,
   "metadata": {},
   "outputs": [
    {
     "data": {
      "text/plain": [
       "216"
      ]
     },
     "execution_count": 14,
     "metadata": {},
     "output_type": "execute_result"
    }
   ],
   "source": [
    "sum_of_decomposition(198)"
   ]
  },
  {
   "cell_type": "code",
   "execution_count": 19,
   "metadata": {},
   "outputs": [
    {
     "name": "stdout",
     "output_type": "stream",
     "text": [
      "216의 최소 생성자는 198\n"
     ]
    }
   ],
   "source": [
    "num = int(input())\n",
    "for i in range(num-9*len(str(num)), num):\n",
    "    if sum_of_decomposition(i) == num:\n",
    "        print(f'{num}의 최소 생성자는 {i}')\n",
    "        break"
   ]
  },
  {
   "attachments": {},
   "cell_type": "markdown",
   "metadata": {},
   "source": [
    "### 2839. 설탕 배달\n",
    "상근이는 요즘 설탕공장에서 설탕을 배달하고 있다.<br>\n",
    "상근이는 지금 사탕가게에 설탕을 정확하게 N킬로그램을 배달해야 한다.<br>\n",
    "설탕공장에서 만드는 설탕은 봉지에 담겨져 있다.<br>\n",
    "봉지는 3킬로그램 봉지와 5킬로그램 봉지가 있다.<br>\n",
    "<Br>\n",
    "상근이는 귀찮기 때문에, 최대한 적은 봉지를 들고 가려고 한다.<Br>\n",
    "예를 들어, 18킬로그램 설탕을 배달해야 할 때, 3킬로그램 봉지 6개를 가져가도 되지만,<br>\n",
    "5킬로그램 3개와 3킬로그램 1개를 배달하면, 더 적은 개수의 봉지를 배달할 수 있다.<br>\n",
    "<br>\n",
    "상근이가 설탕을 정확하게 N킬로그램 배달해야 할 때, 봉지 몇 개를 가져가면 되는지<br>\n",
    "그 수를 구하는 프로그램을 작성하시오."
   ]
  },
  {
   "cell_type": "code",
   "execution_count": 45,
   "metadata": {},
   "outputs": [
    {
     "name": "stdout",
     "output_type": "stream",
     "text": [
      "234kg: 5kg 봉지 45개, 3kg 봉지 3개\n"
     ]
    }
   ],
   "source": [
    "num = int(input())\n",
    "\n",
    "num5, num3 = 0, 0\n",
    "try:\n",
    "    for i in range(num // 5, num // 3 + 1):\n",
    "        for k in range(i + 1):\n",
    "            if num == 5 * (i - k) + 3 * k:\n",
    "                num5 = i - k\n",
    "                num3 = k\n",
    "                raise Exception\n",
    "except:\n",
    "    print(f'{num}kg: 5kg 봉지 {num5}개, 3kg 봉지 {num3}개')\n",
    "else:\n",
    "    print(-1)"
   ]
  },
  {
   "attachments": {},
   "cell_type": "markdown",
   "metadata": {},
   "source": [
    "### 3003. 킹, 퀸, 룩, 비숍, 나이트, 폰\n",
    "동혁이는 오래된 창고를 뒤지다가 낡은 체스판과 피스를 발견했다.<br>\n",
    "체스판의 먼지를 털어내고 걸레로 닦으니 그럭저럭 쓸만한 체스판이 되었다.<br>\n",
    "하지만, 검정색 피스는 모두 있었으나, 흰색 피스는 개수가 올바르지 않았다.<br>\n",
    "체스는 총 16개의 피스를 사용하며, 킹 1개, 퀸 1개, 룩 2개, 비숍 2개, 나이트 2개, 폰 8개로 구성되어 있다.<br>\n",
    "동혁이가 발견한 흰색 피스의 개수가 주어졌을 때,<br>\n",
    "몇 개를 더하거나 빼야 올바른 세트가 되는지 구하는 프로그램을 작성하시오."
   ]
  },
  {
   "cell_type": "code",
   "execution_count": 57,
   "metadata": {},
   "outputs": [],
   "source": [
    "chess_pieces = [1, 1, 2, 2, 2, 8]\n",
    "# chess_pieces = 'King Queen Rook Bishop Knight Pawn'.split()"
   ]
  },
  {
   "cell_type": "code",
   "execution_count": 58,
   "metadata": {},
   "outputs": [
    {
     "name": "stdout",
     "output_type": "stream",
     "text": [
      "-1 -1 0 0 0 6 \n"
     ]
    }
   ],
   "source": [
    "'''k, q, r, b, k, p = map(int, input().split())\n",
    "pieces = [k, q, r, b, k, p]'''\n",
    "pieces = list(map(int, input().split()))\n",
    "for i in range(len(pieces)):\n",
    "    print(chess_pieces[i] - pieces[i], end=' ')\n",
    "print()"
   ]
  },
  {
   "attachments": {},
   "cell_type": "markdown",
   "metadata": {},
   "source": [
    "### 4344. 평균은 넘겠지\n",
    "첫째 줄에는 테스트 케이스의 개수 C가 주어진다.<br>\n",
    "둘째 줄부터 각 테스트 케이스마다 학생의 수 N(1 ≤ N ≤ 1000, N은 정수)이 첫 수로 주어지고,<br>\n",
    "이어서 N명의 점수가 주어진다. 점수는 0보다 크거나 같고, 100보다 작거나 같은 정수이다.<br>\n",
    "각 케이스마다 한 줄씩 평균을 넘는 학생들의 비율을 반올림하여 소수점 셋째 자리까지 출력한다."
   ]
  },
  {
   "cell_type": "code",
   "execution_count": 66,
   "metadata": {},
   "outputs": [],
   "source": [
    "def above_average(score_list):\n",
    "    avg = sum(score_list) / len(score_list)\n",
    "    '''count = 0\n",
    "    for score in score_list:\n",
    "        if score > avg:\n",
    "            count += 1'''\n",
    "    count = sum(map(lambda x: x > avg, score_list))\n",
    "    print(round((count/len(score_list)*100), 3), '%')"
   ]
  },
  {
   "cell_type": "code",
   "execution_count": 67,
   "metadata": {},
   "outputs": [
    {
     "name": "stdout",
     "output_type": "stream",
     "text": [
      "33.333 %\n"
     ]
    }
   ],
   "source": [
    "above_average([70, 80, 90])"
   ]
  },
  {
   "cell_type": "code",
   "execution_count": 68,
   "metadata": {},
   "outputs": [
    {
     "name": "stdout",
     "output_type": "stream",
     "text": [
      "40.0 %\n"
     ]
    }
   ],
   "source": [
    "num = int(input())\n",
    "for i in range(num):\n",
    "    scores = list(map(int, input().split()))[1:]        # 5 50 50 70 80 100\n",
    "    above_average(scores)"
   ]
  },
  {
   "attachments": {},
   "cell_type": "markdown",
   "metadata": {},
   "source": [
    "### 11720. 숫자의 합\n",
    "N개의 숫자가 공백 없이 쓰여있다. 이 숫자를 모두 합해서 출력하는 프로그램을 작성하시오.<br>\n",
    "첫째 줄에 숫자의 개수 N (1 ≤ N ≤ 100)이 주어진다. 둘째 줄에 숫자 N개가 공백없이 주어진다.<br>\n",
    "입력으로 주어진 숫자 N개의 합을 출력한다."
   ]
  },
  {
   "cell_type": "code",
   "execution_count": 73,
   "metadata": {},
   "outputs": [
    {
     "name": "stdout",
     "output_type": "stream",
     "text": [
      "숫자 54321 각 자리수의 합은 15\n"
     ]
    }
   ],
   "source": [
    "num = int(input())\n",
    "s = input()\n",
    "sum_of_digit = 0\n",
    "for i in range(num):\n",
    "    sum_of_digit += int(s[i])\n",
    "print(f'숫자 {s} 각 자리수의 합은 {sum_of_digit}')"
   ]
  },
  {
   "attachments": {},
   "cell_type": "markdown",
   "metadata": {},
   "source": [
    "### 19532. 수학은 비대면강의입니다\n",
    "수현이는 4차 산업혁명 시대에 살고 있는 중학생이다.<br>\n",
    "코로나 19로 인해, 수현이는 버추얼 학교로 버추얼 출석해 버추얼 강의를 듣고 있다.<br>\n",
    "수현이의 버추얼 선생님은 문자가 2개인 연립방정식을 해결하는 방법에 대해 강의하고,<br>\n",
    " 다음과 같은 문제를 숙제로 냈다.<br>\n",
    "<br>\n",
    "다음 연립방정식에서 x와 y의 값을 계산하시오.<br>\n",
    "ax+by=c<br>\n",
    "dx+ey=f<br>\n",
    "<br>\n",
    "4차 산업혁명 시대에 숙제나 하고 앉아있는 것보다 버추얼 친구들을 만나러 가는 게<br>\n",
    "더 가치있는 일이라고 생각했던 수현이는 이런 연립방정식을 풀 시간이 없었다.<br>\n",
    "다행히도, 버추얼 강의의 숙제 제출은 인터넷 창의 빈 칸에 수들을 입력하는 식이다.<br>\n",
    "각 칸에는 -999 이상 999 이하의 정수만 입력할 수 있다.<br>\n",
    "수현이가 버추얼 친구들을 만나러 버추얼 세계로 떠날 수 있게 도와주자."
   ]
  },
  {
   "cell_type": "code",
   "execution_count": 76,
   "metadata": {},
   "outputs": [
    {
     "name": "stdout",
     "output_type": "stream",
     "text": [
      "-1 2\n"
     ]
    }
   ],
   "source": [
    "a, b, c, d, e, f = map(int, input().split())\n",
    "\n",
    "try:\n",
    "    for x in range(-999, 1000):\n",
    "        for y in range(-999, 1000):\n",
    "            if a*x + b*y == c and d*x + e*y == f:\n",
    "                print(x, y)\n",
    "                raise Exception\n",
    "except:\n",
    "    pass"
   ]
  },
  {
   "attachments": {},
   "cell_type": "markdown",
   "metadata": {},
   "source": [
    "### 25206. 너의 평점은\n",
    "인하대학교 컴퓨터공학과를 졸업하기 위해서는, 전공평점이 3.3 이상이거나 졸업고사를 통과해야 한다.<br>\n",
    "그런데 아뿔싸, 치훈이는 깜빡하고 졸업고사를 응시하지 않았다는 사실을 깨달았다!<br>\n",
    "치훈이의 전공평점을 계산해주는 프로그램을 작성해보자.<br>\n",
    "전공평점은 전공과목별 (학점 × 과목평점)의 합을 학점의 총합으로 나눈 값이다.<br>\n",
    "인하대학교 컴퓨터공학과의 등급에 따른 과목평점은 다음 표와 같다.<br>\n",
    "A+ 4.5  A0 4.0  B+ 3.5  B0 3.0\n",
    "C+ 2.5  C0 2.0  D+ 1.5  D0 1.0  F 0.0\n",
    "\n",
    "P/F 과목의 경우 등급이 P또는 F로 표시되는데, 등급이 P인 과목은 계산에서 제외해야 한다.<br>\n",
    "과연 치훈이는 무사히 졸업할 수 있을까?<br>\n",
    "20줄에 걸쳐 치훈이가 수강한 전공과목의 과목명, 학점, 등급이 공백으로 구분되어 주어진다.<br>\n",
    "치훈이의 전공평점을 출력한다.<br>\n",
    "정답과의 절대오차 또는 상대오차가 10^-4 이하이면 정답으로 인정한다.<br>\n",
    "<br>\n",
    "1 ≤ 과목명의 길이 ≤ 50<br>\n",
    "과목명은 알파벳 대소문자 또는 숫자로만 이루어져 있으며, 띄어쓰기 없이 주어진다.<br>\n",
    "입력으로 주어지는 모든 과목명은 서로 다르다.<br>\n",
    "학점은 1.0,2.0,3.0,4.0중 하나이다.<br>\n",
    "등급은 A+,A0,B+,B0,C+,C0,D+,D0,F,P중 하나이다.<br>\n",
    "적어도 한 과목은 등급이 P가 아님이 보장된다.<br>"
   ]
  },
  {
   "cell_type": "code",
   "execution_count": 2,
   "metadata": {},
   "outputs": [],
   "source": [
    "scores = '''\n",
    "ObjectOrientedProgramming1 3.0 A+\n",
    "IntroductiontoComputerEngineering 3.0 A+\n",
    "ObjectOrientedProgramming2 3.0 A0\n",
    "CreativeComputerEngineeringDesign 3.0 A+\n",
    "AssemblyLanguage 3.0 A+\n",
    "InternetProgramming 3.0 B0\n",
    "ApplicationProgramminginJava 3.0 A0\n",
    "SystemProgramming 3.0 B0\n",
    "OperatingSystem 3.0 B0\n",
    "WirelessCommunicationsandNetworking 3.0 C+\n",
    "LogicCircuits 3.0 B0\n",
    "DataStructure 4.0 A+\n",
    "MicroprocessorApplication 3.0 B+\n",
    "EmbeddedSoftware 3.0 C0\n",
    "ComputerSecurity 3.0 D+\n",
    "Database 3.0 C+\n",
    "Algorithm 3.0 B0\n",
    "CapstoneDesigninCSE 3.0 B+\n",
    "CompilerDesign 3.0 D0\n",
    "ProblemSolving 4.0 P\n",
    "'''"
   ]
  },
  {
   "cell_type": "code",
   "execution_count": 5,
   "metadata": {},
   "outputs": [
    {
     "data": {
      "text/plain": [
       "{'A+': 4.5,\n",
       " 'A0': 4.0,\n",
       " 'B+': 3.5,\n",
       " 'B0': 3.0,\n",
       " 'C+': 2.5,\n",
       " 'C0': 2.0,\n",
       " 'D+': 1.5,\n",
       " 'D0': 1.0,\n",
       " 'P': 0,\n",
       " 'F': 0}"
      ]
     },
     "execution_count": 5,
     "metadata": {},
     "output_type": "execute_result"
    }
   ],
   "source": [
    "keys = 'A+,A0,B+,B0,C+,C0,D+,D0,P,F'.split(',')\n",
    "vals = [4.5, 4.0, 3.5, 3.0, 2.5, 2.0, 1.5, 1.0, 0, 0]\n",
    "grade_map = dict(zip(keys, vals))\n",
    "grade_map"
   ]
  },
  {
   "cell_type": "code",
   "execution_count": 7,
   "metadata": {},
   "outputs": [
    {
     "name": "stdout",
     "output_type": "stream",
     "text": [
      "3.284483\n"
     ]
    }
   ],
   "source": [
    "cum_size, cum_score = 0.0, 0.0\n",
    "for line in scores.split('\\n'):\n",
    "    if line == '':              # Line: InternetProgramming 3.0 B0\n",
    "        continue\n",
    "    size = float(line.split()[1])\n",
    "    grade = line.split()[2]\n",
    "    if (grade == 'P'):\n",
    "        continue                # 학점이 P인 과목은 계산에서 제외\n",
    "    cum_size += size\n",
    "    cum_score += grade_map[grade] * size\n",
    "print(round(cum_score / cum_size, 6))"
   ]
  },
  {
   "cell_type": "code",
   "execution_count": null,
   "metadata": {},
   "outputs": [],
   "source": []
  }
 ],
 "metadata": {
  "kernelspec": {
   "display_name": "base",
   "language": "python",
   "name": "python3"
  },
  "language_info": {
   "codemirror_mode": {
    "name": "ipython",
    "version": 3
   },
   "file_extension": ".py",
   "mimetype": "text/x-python",
   "name": "python",
   "nbconvert_exporter": "python",
   "pygments_lexer": "ipython3",
   "version": "3.10.10"
  },
  "orig_nbformat": 4
 },
 "nbformat": 4,
 "nbformat_minor": 2
}
