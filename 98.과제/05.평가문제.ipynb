{
 "cells": [
  {
   "attachments": {},
   "cell_type": "markdown",
   "metadata": {},
   "source": [
    "### 1. 반복문과 리스트\n",
    "1. 1에서 100까지 3의 배수의 합을 구하세요.\n",
    "2. 두 개의 양의 정수를 입력으로 받아서 작은 수부터 큰 수까지 제곱수의 합을 구하세요.\n",
    "3. 1에서 20까지 홀수의 제곱의 합을 구하는데, List Comprehension을 사용하여 구하세요."
   ]
  },
  {
   "cell_type": "code",
   "execution_count": 1,
   "metadata": {},
   "outputs": [
    {
     "name": "stdout",
     "output_type": "stream",
     "text": [
      "1683\n"
     ]
    }
   ],
   "source": [
    "sum3 = 0\n",
    "for i in range(1, 101):\n",
    "    if i % 3 == 0:\n",
    "        sum3 += i\n",
    "print(sum3)"
   ]
  },
  {
   "cell_type": "code",
   "execution_count": 2,
   "metadata": {},
   "outputs": [
    {
     "name": "stdout",
     "output_type": "stream",
     "text": [
      "3에서 10까지 제곱의 합은 380\n"
     ]
    }
   ],
   "source": [
    "a, b = map(int, input().split())\n",
    "small = a if a < b else b\n",
    "large = a if a > b else b\n",
    "\n",
    "sum_sq = 0\n",
    "for i in range(small, large+1):\n",
    "    sum_sq += i * i\n",
    "print(f'{small}에서 {large}까지 제곱의 합은 {sum_sq}')"
   ]
  },
  {
   "cell_type": "code",
   "execution_count": 6,
   "metadata": {},
   "outputs": [
    {
     "name": "stdout",
     "output_type": "stream",
     "text": [
      "1330\n",
      "1330\n"
     ]
    }
   ],
   "source": [
    "print(sum([i * i for i in range(1, 21) if i % 2 == 1]))\n",
    "print(sum([i * i for i in range(1, 21, 2)]))"
   ]
  },
  {
   "attachments": {},
   "cell_type": "markdown",
   "metadata": {},
   "source": [
    "### 2. 클래스\n",
    "다음 요구조건을 만족하는 Member 클래스를 만드세요.<br>\n",
    "<br>\n",
    "- 속성\n",
    "  - member id(mid): 문자열\n",
    "  - member name(name): 문자열\n",
    "  - 생년(birth_year): 정수\n",
    "  - 전화번호(tel): 문자열, 단 비공개\n",
    "- 메소드\n",
    "  - get_age(): 금년 – 생년 값을 반환\n",
    "  - 전화번호 값을 새로운 값으로 변경해주는 setter method\n",
    "  - Member를 출력하면 다음과 같이 나오게 해주는 메소드<br>\n",
    "    ID: mid, 이름: name, 나이:ㅇㅇ, 전화번호: ㅇㅇㅇ-ㅇㅇㅇㅇ-ㅇㅇㅇㅇ<br>\n",
    "<br>\n",
    "james, maria 두 객체를 만들고 전화번호를 변경한 후 두 객체를 출력하세요."
   ]
  },
  {
   "cell_type": "code",
   "execution_count": 2,
   "metadata": {},
   "outputs": [],
   "source": [
    "import datetime as dt\n",
    "class Member:\n",
    "    def __init__(self, mid, name, birth_year, tel):\n",
    "        self.mid = mid\n",
    "        self.name = name\n",
    "        self.birth_year = birth_year\n",
    "        self.__tel = tel\n",
    "    def get_age(self):\n",
    "        today = dt.date.today()\n",
    "        return today.year - self.birth_year\n",
    "    def set_tel(self, tel):\n",
    "        self.__tel = tel\n",
    "        return\n",
    "    def __str__(self):\n",
    "        return f'ID: {self.mid}, 이름: {self.name}, 나이: {self.get_age()}, 전화번호: {self.__tel}'"
   ]
  },
  {
   "cell_type": "code",
   "execution_count": 3,
   "metadata": {},
   "outputs": [
    {
     "name": "stdout",
     "output_type": "stream",
     "text": [
      "ID: james, 이름: 제임스, 나이: 23, 전화번호: 010-4567-8912\n",
      "ID: maria, 이름: 마리아, 나이: 22, 전화번호: 010-4687-8645\n"
     ]
    }
   ],
   "source": [
    "james = Member('james', '제임스', 2000, '010-1234-5678')\n",
    "maria = Member('maria', '마리아', 2001, '010-2345-6789')\n",
    "james.set_tel('010-4567-8912')\n",
    "maria.set_tel('010-4687-8645')\n",
    "print(james)\n",
    "print(maria)"
   ]
  },
  {
   "attachments": {},
   "cell_type": "markdown",
   "metadata": {},
   "source": [
    "### 3. 함수와 알고리즘\n",
    "1과 자기자신 만을 약수로 갖는 수를 소수(Prime number)라고 한다.<br>\n",
    "<br>\n",
    "1. 어떤 수가 소수인가를 판단하는 함수 is_prime(num)을 작성하세요.<br>\n",
    "   2, 3과 같이 소수면 True를 아니면 False를 반환하게 만드세요.<br>\n",
    "<Br>\n",
    "2. 1)에서 만든 함수를 이용하여 2에서부터 100까지 소수를 찾으세요."
   ]
  },
  {
   "cell_type": "code",
   "execution_count": 19,
   "metadata": {},
   "outputs": [],
   "source": [
    "import math\n",
    "def is_prime(num):\n",
    "    # 방법 1\n",
    "    '''divisors = [i for i in range(1, num+1) if num % i == 0]\n",
    "    result1 = True if len(divisors) == 2 else False'''\n",
    "    # 방법 2\n",
    "    '''for i in range(2, num):\n",
    "        if num % i == 0:\n",
    "            return False\n",
    "    return True'''\n",
    "    # 방법 3\n",
    "    for i in range(2, int(math.floor(math.sqrt(num)))+1):\n",
    "        if num % i == 0:\n",
    "            return False\n",
    "    return True"
   ]
  },
  {
   "cell_type": "code",
   "execution_count": 8,
   "metadata": {},
   "outputs": [
    {
     "data": {
      "text/plain": [
       "(True, False)"
      ]
     },
     "execution_count": 8,
     "metadata": {},
     "output_type": "execute_result"
    }
   ],
   "source": [
    "is_prime(2), is_prime(57)"
   ]
  },
  {
   "cell_type": "code",
   "execution_count": 20,
   "metadata": {},
   "outputs": [
    {
     "name": "stdout",
     "output_type": "stream",
     "text": [
      "2 3 5 7 11 13 17 19 23 29 31 37 41 43 47 53 59 61 67 71 73 79 83 89 97 "
     ]
    }
   ],
   "source": [
    "for i in range(2, 101):\n",
    "    if is_prime(i):\n",
    "        print(i, end=' ')"
   ]
  }
 ],
 "metadata": {
  "kernelspec": {
   "display_name": "base",
   "language": "python",
   "name": "python3"
  },
  "language_info": {
   "codemirror_mode": {
    "name": "ipython",
    "version": 3
   },
   "file_extension": ".py",
   "mimetype": "text/x-python",
   "name": "python",
   "nbconvert_exporter": "python",
   "pygments_lexer": "ipython3",
   "version": "3.10.10"
  },
  "orig_nbformat": 4
 },
 "nbformat": 4,
 "nbformat_minor": 2
}
