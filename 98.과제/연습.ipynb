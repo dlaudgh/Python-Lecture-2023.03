{
 "cells": [
  {
   "cell_type": "code",
   "execution_count": 3,
   "metadata": {},
   "outputs": [
    {
     "name": "stdout",
     "output_type": "stream",
     "text": [
      "1683\n"
     ]
    }
   ],
   "source": [
    "sum3 = 0\n",
    "for i in range(3, 101, 3):\n",
    "    sum3 += i\n",
    "print(sum3)"
   ]
  },
  {
   "cell_type": "code",
   "execution_count": 5,
   "metadata": {},
   "outputs": [
    {
     "name": "stdout",
     "output_type": "stream",
     "text": [
      "55\n"
     ]
    }
   ],
   "source": [
    "m, n = map(int, input().split())\n",
    "sum = 0\n",
    "if m < n:\n",
    "    for i in range(m, n+1):\n",
    "        sum += i * i\n",
    "print(sum)"
   ]
  },
  {
   "cell_type": "code",
   "execution_count": 92,
   "metadata": {},
   "outputs": [
    {
     "name": "stdout",
     "output_type": "stream",
     "text": [
      "1330\n"
     ]
    }
   ],
   "source": [
    "sum = 0\n",
    "for i in range(1, 21, 2):\n",
    "    sum += i * i\n",
    "print(sum)"
   ]
  },
  {
   "cell_type": "code",
   "execution_count": 93,
   "metadata": {},
   "outputs": [
    {
     "name": "stdout",
     "output_type": "stream",
     "text": [
      "소수아님\n"
     ]
    }
   ],
   "source": [
    "def is_number(num):\n",
    "    for i in range(2, num):\n",
    "        if num % i == 0:     \n",
    "            return False\n",
    "    return True                 \n",
    "   \n",
    "num = int(input())\n",
    "if is_number(num):\n",
    "    print('소수')\n",
    "else:\n",
    "    print('소수아님')"
   ]
  },
  {
   "cell_type": "code",
   "execution_count": null,
   "metadata": {},
   "outputs": [],
   "source": [
    "def is_number(num):\n",
    "    for i in range(2, 101):\n",
    "        if num % i == 0:"
   ]
  },
  {
   "cell_type": "code",
   "execution_count": 86,
   "metadata": {},
   "outputs": [],
   "source": [
    "class Member:\n",
    "    def __init__(self, mid, name, birth_year, tel):\n",
    "        self.mid = mid\n",
    "        self.name = name\n",
    "        self.birth_year = birth_year\n",
    "        self.__tel = tel\n",
    "\n",
    "    def get_age(self):\n",
    "        now = dt.date.today()\n",
    "        return now.year - self.birth_year\n",
    "\n",
    "    def set_wallet(self, tel):\n",
    "        self.__tel = tel\n",
    "\n",
    "    def get_info(self):\n",
    "        return f'ID: {self.mid}, name: {self.name}, 나이: {self.get_age()}' +\\\n",
    "                f'전화번호: {self.__tel}'"
   ]
  },
  {
   "cell_type": "code",
   "execution_count": 87,
   "metadata": {},
   "outputs": [],
   "source": [
    "james = Member('001', 'James', 2000, '010-1234-5678')\n",
    "maria = Member('002', 'Maria', 2001, '010-2345-6789')\n",
    "\n",
    "james.tel = '010-2345-6789'\n",
    "maria.tel = '010-1234-5678'\n",
    "\n",
    "print(james.get_info())\n",
    "print(maria.get_info())"
   ]
  }
 ],
 "metadata": {
  "kernelspec": {
   "display_name": "base",
   "language": "python",
   "name": "python3"
  },
  "language_info": {
   "codemirror_mode": {
    "name": "ipython",
    "version": 3
   },
   "file_extension": ".py",
   "mimetype": "text/x-python",
   "name": "python",
   "nbconvert_exporter": "python",
   "pygments_lexer": "ipython3",
   "version": "3.10.10"
  },
  "orig_nbformat": 4
 },
 "nbformat": 4,
 "nbformat_minor": 2
}
