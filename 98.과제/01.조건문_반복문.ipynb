{
 "cells": [
  {
   "attachments": {},
   "cell_type": "markdown",
   "metadata": {},
   "source": [
    "### 2884. 알람 시계\n",
    "상근이는 매일 아침 알람을 듣고 일어난다.<br>\n",
    "알람을 듣고 바로 일어나면 다행이겠지만,<br>\n",
    "항상 조금만 더 자려는 마음 때문에 매일 학교를 지각하고 있다.<br>\n",
    "상근이는 모든 방법을 동원해보았지만,<br>\n",
    "조금만 더 자려는 마음은 그 어떤 것도 없앨 수가 없었다.<br>\n",
    "이런 상근이를 불쌍하게 보던 창영이는 자신이 사용하는 방법을 추천해 주었다.<br>\n",
    "바로 \"45분 일찍 알람 설정하기\"이다.<br>\n",
    "이 방법은 단순하다. 원래 설정되어 있는 알람을 45분 앞서는 시간으로 바꾸는 것이다.<br>\n",
    "어차피 알람 소리를 들으면, 알람을 끄고 조금 더 잘 것이기 때문이다.<br>\n",
    "이 방법을 사용하면, 매일 아침 더 잤다는 기분을 느낄 수 있고, 학교도 지각하지 않게 된다.<br>\n",
    "현재 상근이가 설정한 알람 시각이 주어졌을 때, 창영이의 방법을 사용한다면,<br>\n",
    "이를 언제로 고쳐야 하는지 구하는 프로그램을 작성하시오."
   ]
  },
  {
   "cell_type": "code",
   "execution_count": 52,
   "metadata": {},
   "outputs": [
    {
     "name": "stdout",
     "output_type": "stream",
     "text": [
      "23 35\n"
     ]
    }
   ],
   "source": [
    "h, m = map(int, input().split())\n",
    "if m >= 45:\n",
    "    h = h\n",
    "    m -= 45\n",
    "else:\n",
    "    h = (h + 24 - 1) % 24\n",
    "    m = m + 60 - 45\n",
    "print(h, m)"
   ]
  },
  {
   "attachments": {},
   "cell_type": "markdown",
   "metadata": {},
   "source": [
    "### 2480. 주사위 세개\n",
    "1에서부터 6까지의 눈을 가진 3개의 주사위를 던져서<br>\n",
    "다음과 같은 규칙에 따라 상금을 받는 게임이 있다. <br>\n",
    "- 같은 눈이 3개가 나오면 10,000원+(같은 눈)×1,000원의 상금을 받게 된다. \n",
    "- 같은 눈이 2개만 나오는 경우에는 1,000원+(같은 눈)×100원의 상금을 받게 된다. \n",
    "- 모두 다른 눈이 나오는 경우에는 (그 중 가장 큰 눈)×100원의 상금을 받게 된다.<br>\n",
    "<br>\n",
    "예를 들어, 3개의 눈 3, 3, 6이 주어지면 상금은 1,000+3×100으로 계산되어 1,300원을 받게 된다.<br>\n",
    "또 3개의 눈이 2, 2, 2로 주어지면 10,000+2×1,000 으로 계산되어 12,000원을 받게 된다.<br>\n",
    "3개의 눈이 6, 2, 5로 주어지면 그중 가장 큰 값이 6이므로 6×100으로 계산되어 600원을 상금으로 받게 된다.<br>\n",
    "3개 주사위의 나온 눈이 주어질 때, 상금을 계산하는 프로그램을 작성 하시오."
   ]
  },
  {
   "cell_type": "code",
   "execution_count": 47,
   "metadata": {},
   "outputs": [
    {
     "name": "stdout",
     "output_type": "stream",
     "text": [
      "3, 3, 3, 13000\n"
     ]
    }
   ],
   "source": [
    "import random\n",
    "a = random.randint(1, 6)\n",
    "b = random.randint(1, 6)\n",
    "c = random.randint(1, 6)\n",
    "if a == b == c:\n",
    "    print(f'{a}, {b}, {c}, {10000 + a * 1000}')\n",
    "elif a == b or a == c:\n",
    "    print(f'{a}, {b}, {c}, {1000 + a * 100}')\n",
    "elif b == c:\n",
    "    print(f'{a}, {b}, {c}, {1000 + b * 100}')\n",
    "else:\n",
    "    print(f'{a}, {b}, {c}, {max(a, b, c) * 100}')"
   ]
  },
  {
   "attachments": {},
   "cell_type": "markdown",
   "metadata": {},
   "source": [
    "- 완전수 구하기"
   ]
  },
  {
   "cell_type": "code",
   "execution_count": 2,
   "metadata": {},
   "outputs": [
    {
     "name": "stdout",
     "output_type": "stream",
     "text": [
      "6 28 496 8128 "
     ]
    }
   ],
   "source": [
    "for i in range(2, 10001):\n",
    "    sum = 0\n",
    "    for j in range(1, i):\n",
    "        if i % j == 0:\n",
    "            sum += j\n",
    "    if i == sum:\n",
    "        print(i, end=' ')"
   ]
  },
  {
   "attachments": {},
   "cell_type": "markdown",
   "metadata": {},
   "source": [
    "- 피타고라스"
   ]
  },
  {
   "cell_type": "code",
   "execution_count": 68,
   "metadata": {},
   "outputs": [
    {
     "name": "stdout",
     "output_type": "stream",
     "text": [
      "200 375 425\n"
     ]
    }
   ],
   "source": [
    "for a in range(1, 500):\n",
    "    for b in range(1, 500):\n",
    "        for c in range(1, 500):\n",
    "            if a < b < c and a + b + c == 1000 and a*a + b*b == c*c:\n",
    "                print(a, b, c)"
   ]
  }
 ],
 "metadata": {
  "kernelspec": {
   "display_name": "base",
   "language": "python",
   "name": "python3"
  },
  "language_info": {
   "codemirror_mode": {
    "name": "ipython",
    "version": 3
   },
   "file_extension": ".py",
   "mimetype": "text/x-python",
   "name": "python",
   "nbconvert_exporter": "python",
   "pygments_lexer": "ipython3",
   "version": "3.10.9"
  },
  "orig_nbformat": 4
 },
 "nbformat": 4,
 "nbformat_minor": 2
}
