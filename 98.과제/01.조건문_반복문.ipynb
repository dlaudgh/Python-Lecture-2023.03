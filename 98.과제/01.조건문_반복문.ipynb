{
 "cells": [
  {
   "attachments": {},
   "cell_type": "markdown",
   "metadata": {},
   "source": [
    "- 2884"
   ]
  },
  {
   "cell_type": "code",
   "execution_count": 52,
   "metadata": {},
   "outputs": [
    {
     "name": "stdout",
     "output_type": "stream",
     "text": [
      "23 35\n"
     ]
    }
   ],
   "source": [
    "h, m = map(int, input().split())\n",
    "if m >= 45:\n",
    "    h = h\n",
    "    m -= 45\n",
    "else:\n",
    "    h = (h + 24 -1) % 24\n",
    "    m = m + 60 -45\n",
    "print(h, m)"
   ]
  },
  {
   "attachments": {},
   "cell_type": "markdown",
   "metadata": {},
   "source": [
    "- 2480"
   ]
  },
  {
   "cell_type": "code",
   "execution_count": 47,
   "metadata": {},
   "outputs": [
    {
     "name": "stdout",
     "output_type": "stream",
     "text": [
      "3, 3, 3, 13000\n"
     ]
    }
   ],
   "source": [
    "import random\n",
    "a = random.randint(1, 6)\n",
    "b = random.randint(1, 6)\n",
    "c = random.randint(1, 6)\n",
    "if a == b == c:\n",
    "    print(f'{a}, {b}, {c}, {10000 + a * 1000}')\n",
    "elif a == b or a == c:\n",
    "    print(f'{a}, {b}, {c}, {1000 + a * 100}')\n",
    "elif b == c:\n",
    "    print(f'{a}, {b}, {c}, {1000 + b * 100}')\n",
    "else:\n",
    "    print(f'{a}, {b}, {c}, {max(a, b, c) * 100}')"
   ]
  },
  {
   "attachments": {},
   "cell_type": "markdown",
   "metadata": {},
   "source": [
    "- 완전수 구하기"
   ]
  },
  {
   "cell_type": "code",
   "execution_count": 2,
   "metadata": {},
   "outputs": [
    {
     "name": "stdout",
     "output_type": "stream",
     "text": [
      "6 28 496 8128 "
     ]
    }
   ],
   "source": [
    "for i in range(2, 10001):\n",
    "    sum = 0\n",
    "    for j in range(1, i):\n",
    "        if i % j == 0:\n",
    "            sum += j\n",
    "    if i == sum:\n",
    "        print(i, end=' ')"
   ]
  },
  {
   "attachments": {},
   "cell_type": "markdown",
   "metadata": {},
   "source": [
    "- 피타고라스"
   ]
  },
  {
   "cell_type": "code",
   "execution_count": 68,
   "metadata": {},
   "outputs": [
    {
     "name": "stdout",
     "output_type": "stream",
     "text": [
      "200 375 425\n"
     ]
    }
   ],
   "source": [
    "for a in range(1, 500):\n",
    "    for b in range(1, 500):\n",
    "        for c in range(1, 500):\n",
    "            if a < b < c and a + b + c == 1000 and a*a + b*b == c*c:\n",
    "                print(a, b, c)"
   ]
  }
 ],
 "metadata": {
  "kernelspec": {
   "display_name": "base",
   "language": "python",
   "name": "python3"
  },
  "language_info": {
   "codemirror_mode": {
    "name": "ipython",
    "version": 3
   },
   "file_extension": ".py",
   "mimetype": "text/x-python",
   "name": "python",
   "nbconvert_exporter": "python",
   "pygments_lexer": "ipython3",
   "version": "3.10.9"
  },
  "orig_nbformat": 4
 },
 "nbformat": 4,
 "nbformat_minor": 2
}
