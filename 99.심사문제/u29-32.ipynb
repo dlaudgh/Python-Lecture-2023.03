{
 "cells": [
  {
   "attachments": {},
   "cell_type": "markdown",
   "metadata": {},
   "source": [
    "### 심사문제 29.4\n",
    "표준 입력으로 숫자 두 개가 입력됩니다.<br>\n",
    "다음 소스 코드를 완성하여 두 숫자의 덧셈, 뺄셈, 곱셈, 나눗셈의 결과가 출력되게 만드세요.<br>\n",
    "이때 나눗셈의 결과는 실수라야 합니다."
   ]
  },
  {
   "cell_type": "code",
   "execution_count": 1,
   "metadata": {},
   "outputs": [
    {
     "name": "stdout",
     "output_type": "stream",
     "text": [
      "덧셈: 16, 뺄셈: 8, 곱셈: 48, 나눗셈: 3.0\n"
     ]
    }
   ],
   "source": [
    "x, y = map(int, input().split())\n",
    "\n",
    "def calc(x, y):\n",
    "    return x+y, x-y, x*y, float(x/y)\n",
    "\n",
    "a, s, m, d = calc(x, y)\n",
    "print(f'덧셈: {a}, 뺄셈: {s}, 곱셈: {m}, 나눗셈: {d}')"
   ]
  },
  {
   "attachments": {},
   "cell_type": "markdown",
   "metadata": {},
   "source": [
    "### 심사문제 30.7\n",
    "표준 입력으로 국어, 영어, 수학, 과학 점수가 입력됩니다.<br>\n",
    "다음 소스 코드를 완성하여 가장 높은 점수, 가장 낮은 점수, 평균 점수가 출력되게 만드세요.<br>\n",
    "평균 점수는 실수로 출력되어야 합니다."
   ]
  },
  {
   "cell_type": "code",
   "execution_count": 2,
   "metadata": {},
   "outputs": [],
   "source": [
    "kor, eng, mat, sci = map(int, input().split())\n",
    "def get_min_max_score(*args):\n",
    "    return min(args), max(args)\n",
    "def get_average(**kwargs):\n",
    "    return float(sum(kwargs.values()) / len(kwargs))"
   ]
  },
  {
   "cell_type": "code",
   "execution_count": 3,
   "metadata": {},
   "outputs": [
    {
     "name": "stdout",
     "output_type": "stream",
     "text": [
      "낮은 점수: 76.00, 높은 점수: 92.00, 평균 점수: 84.25\n",
      "낮은 점수: 80.00, 높은 점수: 89.00, 평균 점수: 84.50\n"
     ]
    }
   ],
   "source": [
    "min_score, max_score = get_min_max_score(kor, eng, mat, sci)\n",
    "average_score = get_average(kor=kor, eng=eng, mat=mat, sci=sci)\n",
    "print(f'낮은 점수: {min_score:.2f}, 높은 점수: {max_score:.2f}, 평균 점수: {average_score:.2f}')\n",
    " \n",
    "min_score, max_score = get_min_max_score(eng, sci)\n",
    "average_score = get_average(eng=eng, sci=sci)\n",
    "print(f'낮은 점수: {min_score:.2f}, 높은 점수: {max_score:.2f}, 평균 점수: {average_score:.2f}')"
   ]
  },
  {
   "attachments": {},
   "cell_type": "markdown",
   "metadata": {},
   "source": [
    "### 심사문제 31.5\n",
    "표준 입력으로 정수 한 개가 입력됩니다(입력 값의 범위는 10~30).<br>\n",
    "다음 소스 코드를 완성하여 입력된 정수에 해당하는 피보나치 수가 출력되게 만드세요.<br>\n",
    "피보나치 수는 0과 1로 시작하며, 다음 번 피보나치 수는 바로 앞의 두 피보나치 수의 합입니다."
   ]
  },
  {
   "cell_type": "code",
   "execution_count": 4,
   "metadata": {},
   "outputs": [],
   "source": [
    "def fib(n):\n",
    "    if n == 0:\n",
    "        return 0\n",
    "    if n == 1:\n",
    "        return 1\n",
    "    return fib(n-1) + fib(n-2)"
   ]
  },
  {
   "cell_type": "code",
   "execution_count": 6,
   "metadata": {},
   "outputs": [
    {
     "name": "stdout",
     "output_type": "stream",
     "text": [
      "55\n"
     ]
    }
   ],
   "source": [
    "n = int(input())\n",
    "print(fib(n))"
   ]
  },
  {
   "attachments": {},
   "cell_type": "markdown",
   "metadata": {},
   "source": [
    "### 심사문제 32.5\n",
    "표준 입력으로 숫자.확장자 형식으로 된 파일 이름 여러 개가 입력됩니다.<br>\n",
    "다음 소스 코드를 완성하여 파일 이름이 숫자 3개이면서 앞에 0이 들어가는 형식으로 출력되게 만드세요.<br>\n",
    "예를 들어 1.png는 001.png, 99.docx는 099.docx, 100.xlsx는 100.xlsx처럼 출력되어야 합니다.<br>\n",
    "그리고 람다 표현식을 사용해야 하며 출력 결과는 리스트 형태라야 합니다.<br>\n",
    "람다 표현식에서 파일명을 처리할 때는 문자열 포매팅과 문자열 메서드를 활용하세요."
   ]
  },
  {
   "cell_type": "code",
   "execution_count": 7,
   "metadata": {},
   "outputs": [
    {
     "name": "stdout",
     "output_type": "stream",
     "text": [
      "001.jpg\n"
     ]
    }
   ],
   "source": [
    "filename = '1.jpg'\n",
    "num = int(filename.split('.')[0])\n",
    "ext = filename.split('.')[1]\n",
    "print(f'{num:03d}.{ext}')"
   ]
  },
  {
   "cell_type": "code",
   "execution_count": 8,
   "metadata": {},
   "outputs": [
    {
     "name": "stdout",
     "output_type": "stream",
     "text": [
      "['001.png', '010.jpg', '099.docx', '101.gif']\n"
     ]
    }
   ],
   "source": [
    "# files = ['1.png', '10.jpg', '99.docx', '101.gif']\n",
    "files = input().split()\n",
    "print(list(map(lambda x: f\"{int(x.split('.')[0]):03d}.{x.split('.')[1]}\", files)))"
   ]
  },
  {
   "cell_type": "code",
   "execution_count": 9,
   "metadata": {},
   "outputs": [
    {
     "name": "stdout",
     "output_type": "stream",
     "text": [
      "['097.xlsx', '098.docx', '099.docx', '100.xlsx', '101.docx', '102.docx']\n"
     ]
    }
   ],
   "source": [
    "files = input().split()\n",
    "print(list(map(lambda x: f\"{int(x.split('.')[0]):03d}.{x.split('.')[1]}\", files)))"
   ]
  },
  {
   "cell_type": "code",
   "execution_count": null,
   "metadata": {},
   "outputs": [],
   "source": []
  }
 ],
 "metadata": {
  "kernelspec": {
   "display_name": "base",
   "language": "python",
   "name": "python3"
  },
  "language_info": {
   "codemirror_mode": {
    "name": "ipython",
    "version": 3
   },
   "file_extension": ".py",
   "mimetype": "text/x-python",
   "name": "python",
   "nbconvert_exporter": "python",
   "pygments_lexer": "ipython3",
   "version": "3.10.10"
  },
  "orig_nbformat": 4
 },
 "nbformat": 4,
 "nbformat_minor": 2
}
