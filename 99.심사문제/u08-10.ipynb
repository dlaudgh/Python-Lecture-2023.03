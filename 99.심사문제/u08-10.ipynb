{
 "cells": [
  {
   "attachments": {},
   "cell_type": "markdown",
   "metadata": {},
   "source": [
    "### 심사문제 8.5\n",
    "표준 입력으로 국어, 영어, 수학, 과학 점수가 입력됩니다.<br>\n",
    "국어는 90점 이상, 영어는 80점 초과, 수학은 85점 초과, 과학은 80점 이상일 때<br>\n",
    "합격이라고 정했습니다.<br>(한 과목이라도 조건에 만족하지 않으면 불합격)<br>\n",
    "다음 소스 코드를 완성하여 합격이면 True, 불합격이면 False가 출력되게 만드세요.<br>(input에서 안내 문자열은 출력하지 않아야 합니다)"
   ]
  },
  {
   "cell_type": "code",
   "execution_count": 2,
   "metadata": {},
   "outputs": [
    {
     "name": "stdout",
     "output_type": "stream",
     "text": [
      "False\n"
     ]
    }
   ],
   "source": [
    "kor, eng, mat, sci = map(int, input().split())\n",
    "result = (kor >= 90) and (eng > 80) and (mat > 85) and (sci >= 80)  # 괄호는 없어도 무방\n",
    "print(result)"
   ]
  },
  {
   "attachments": {},
   "cell_type": "markdown",
   "metadata": {},
   "source": [
    "### 심사문제 9.4\n",
    "다음 소스 코드를 완성하여 실행 결과대로 문자열이 출력되게 만드세요.<br>\n",
    "<br>\n",
    "'Python' is a \"programming language\"<br>\n",
    "that lets you work quickly<br>\n",
    "and<br>\n",
    "integrate systems more effectively.<br>"
   ]
  },
  {
   "cell_type": "code",
   "execution_count": 3,
   "metadata": {},
   "outputs": [
    {
     "name": "stdout",
     "output_type": "stream",
     "text": [
      "'Python' is a \"programming language\"\n",
      "that lets you work quickly\n",
      "and\n",
      "integrate systems more effectively.\n"
     ]
    }
   ],
   "source": [
    "s = \"\"\"'Python' is a \"programming language\"\n",
    "that lets you work quickly\n",
    "and\n",
    "integrate systems more effectively.\"\"\"\n",
    "print(s)"
   ]
  },
  {
   "attachments": {},
   "cell_type": "markdown",
   "metadata": {},
   "source": [
    "### 심사문제 10.5\n",
    "표준 입력으로 정수가 입력됩니다.<br>\n",
    "range의 시작하는 숫자는 -10, 끝나는 숫자는 10이며 입력된 정수만큼 증가하는 숫자가 들어가도록<br>\n",
    "튜플을 만들고, 해당 튜플을 출력하는 프로그램을 만드세요.<br>\n",
    "(input에서 안내 문자열은 출력하지 않아야 합니다)"
   ]
  },
  {
   "cell_type": "code",
   "execution_count": 5,
   "metadata": {},
   "outputs": [
    {
     "name": "stdout",
     "output_type": "stream",
     "text": [
      "(-10, -7, -4, -1, 2, 5, 8)\n"
     ]
    }
   ],
   "source": [
    "inc = int(input())\n",
    "t = tuple(range(-10, 10, inc))\n",
    "print(t)"
   ]
  },
  {
   "cell_type": "code",
   "execution_count": null,
   "metadata": {},
   "outputs": [],
   "source": []
  }
 ],
 "metadata": {
  "kernelspec": {
   "display_name": "base",
   "language": "python",
   "name": "python3"
  },
  "language_info": {
   "codemirror_mode": {
    "name": "ipython",
    "version": 3
   },
   "file_extension": ".py",
   "mimetype": "text/x-python",
   "name": "python",
   "nbconvert_exporter": "python",
   "pygments_lexer": "ipython3",
   "version": "3.10.10"
  },
  "orig_nbformat": 4
 },
 "nbformat": 4,
 "nbformat_minor": 2
}
