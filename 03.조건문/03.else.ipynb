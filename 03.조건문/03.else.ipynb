{
 "cells": [
  {
   "attachments": {},
   "cell_type": "markdown",
   "metadata": {},
   "source": [
    "### 3-3. if ~ else ~"
   ]
  },
  {
   "cell_type": "code",
   "execution_count": 1,
   "metadata": {},
   "outputs": [
    {
     "name": "stdout",
     "output_type": "stream",
     "text": [
      "현재 시간은 11시로 오전 입니다.\n"
     ]
    }
   ],
   "source": [
    "# 현재 시간이 오전/오후인지 구분\n",
    "import datetime\n",
    "now = datetime.datetime.now()\n",
    "if now.hour < 12:\n",
    "    print(f'현재 시간은 {now.hour}시로 오전 입니다.')\n",
    "if now.hour >= 12:\n",
    "    print(f'현재 시간은 {now.hour}시로 오후 입니다.')"
   ]
  },
  {
   "cell_type": "code",
   "execution_count": 2,
   "metadata": {},
   "outputs": [
    {
     "name": "stdout",
     "output_type": "stream",
     "text": [
      "현재 시간은 11시로 오전 입니다.\n"
     ]
    }
   ],
   "source": [
    "import datetime\n",
    "now = datetime.datetime.now()\n",
    "if now.hour < 12:\n",
    "    print(f'현재 시간은 {now.hour}시로 오전 입니다.')\n",
    "else:\n",
    "    print(f'현재 시간은 {now.hour}시로 오후 입니다.')"
   ]
  },
  {
   "attachments": {},
   "cell_type": "markdown",
   "metadata": {},
   "source": [
    "- 조건부 표현식(3항 연산자)"
   ]
  },
  {
   "cell_type": "code",
   "execution_count": 3,
   "metadata": {},
   "outputs": [],
   "source": [
    "# JS, Java\n",
    "# y = (num % 2 == 0) ? '짝수' : '홀수';"
   ]
  },
  {
   "cell_type": "code",
   "execution_count": 5,
   "metadata": {},
   "outputs": [
    {
     "name": "stdout",
     "output_type": "stream",
     "text": [
      "3 홀수\n"
     ]
    }
   ],
   "source": [
    "import random\n",
    "num = random.randint(1, 10)\n",
    "even_odd = '짝수' if num % 2 == 0 else '홀수'\n",
    "print(num, even_odd)"
   ]
  },
  {
   "cell_type": "code",
   "execution_count": 6,
   "metadata": {},
   "outputs": [
    {
     "name": "stdout",
     "output_type": "stream",
     "text": [
      "11 오전\n"
     ]
    }
   ],
   "source": [
    "import datetime\n",
    "now = datetime.datetime.now()\n",
    "am_pm = '오전' if now.hour < 12 else '오후'\n",
    "print(now.hour, am_pm)"
   ]
  },
  {
   "cell_type": "code",
   "execution_count": 10,
   "metadata": {},
   "outputs": [
    {
     "name": "stdout",
     "output_type": "stream",
     "text": [
      "60 합격\n"
     ]
    }
   ],
   "source": [
    "# 성적(score)이 60점 이상이면 합격(pass) 아니면 불합격(fail)\n",
    "score = int(input('성적> '))\n",
    "result = '합격' if score >= 60 else '불합격'\n",
    "print(score, result)"
   ]
  },
  {
   "cell_type": "code",
   "execution_count": 17,
   "metadata": {},
   "outputs": [
    {
     "name": "stdout",
     "output_type": "stream",
     "text": [
      "59 불통\n"
     ]
    }
   ],
   "source": [
    "# 성적이 60점 이상 70점 미만이면 재시험, 70점 이상이면 통과, 60점 미만이면 불통\n",
    "score = int(input('성적> '))\n",
    "result = '통과' if score >= 70 else \\\n",
    "            '재시험' if score >= 60 else '불통'\n",
    "print(score, result)"
   ]
  },
  {
   "cell_type": "code",
   "execution_count": null,
   "metadata": {},
   "outputs": [],
   "source": []
  }
 ],
 "metadata": {
  "kernelspec": {
   "display_name": "base",
   "language": "python",
   "name": "python3"
  },
  "language_info": {
   "codemirror_mode": {
    "name": "ipython",
    "version": 3
   },
   "file_extension": ".py",
   "mimetype": "text/x-python",
   "name": "python",
   "nbconvert_exporter": "python",
   "pygments_lexer": "ipython3",
   "version": "3.10.9"
  },
  "orig_nbformat": 4
 },
 "nbformat": 4,
 "nbformat_minor": 2
}
